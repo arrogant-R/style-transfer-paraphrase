{
 "cells": [
  {
   "cell_type": "markdown",
   "metadata": {},
   "source": [
    "加载释义版本数据"
   ]
  },
  {
   "cell_type": "code",
   "execution_count": 3,
   "metadata": {},
   "outputs": [],
   "source": [
    "with open(\"../datasets/new_dataset/train.paraphrase_250_input0.bpe\",\"r\") as f:\n",
    "    lines = f.readlines()"
   ]
  },
  {
   "cell_type": "code",
   "execution_count": 2,
   "metadata": {},
   "outputs": [
    {
     "name": "stdout",
     "output_type": "stream",
     "text": [
      "loading archive file http://dl.fbaipublicfiles.com/fairseq/models/roberta.base.tar.gz from cache at /home/amax/.cache/torch/pytorch_fairseq/37d2bc14cf6332d61ed5abeb579948e6054e46cc724c7d23426382d11a31b2d6.ae5852b4abc6bf762e0b6b30f19e741aa05562471e9eb8f4a6ae261f04f9b350\n",
      "| dictionary: 50264 types\n"
     ]
    }
   ],
   "source": [
    "import torch\n",
    "#需要旧的numpy==1.23.5\n",
    "roberta = torch.hub.load('/data/dengwc/github/style-transfer-paraphrase/roberta.base', 'roberta.base',source='local' )"
   ]
  },
  {
   "cell_type": "code",
   "execution_count": 4,
   "metadata": {},
   "outputs": [
    {
     "data": {
      "text/plain": [
       "\"Oprah Winfrey, the media tycoon and billionaire, has announced that she doesn't intend to run for president, despite the public's constant buzz!In a new interview with InStyle magazine, she said she didn't intend to run for president.\""
      ]
     },
     "execution_count": 4,
     "metadata": {},
     "output_type": "execute_result"
    }
   ],
   "source": [
    "# 由于是bpe编码先解码\n",
    "sample = roberta.bpe.decode(lines[0])\n",
    "sample"
   ]
  },
  {
   "cell_type": "code",
   "execution_count": 5,
   "metadata": {},
   "outputs": [],
   "source": [
    "from style_paraphrase.inference_utils import GPT2Generator\n",
    "paraphraser = GPT2Generator('/data/dengwc/github/style-transfer-paraphrase/paraphraser_gpt2_large', upper_length=\"same_5\")\n",
    "paraphraser.modify_p(top_p=0.9)\n"
   ]
  },
  {
   "cell_type": "code",
   "execution_count": 5,
   "metadata": {},
   "outputs": [
    {
     "name": "stdout",
     "output_type": "stream",
     "text": [
      "Oprah Winfrey, the iconic media tycoon and billionaire, has made it clear that she has no plans to run for president. Despite all the excitement and buzz among the public, she’s decided to disappoint us. In a recent interview with InStyle magazine, she candidly expressed her lack of intention to enter the presidential race. It’s a bit of a letdown, but let’s keep hoping\n"
     ]
    }
   ],
   "source": [
    "generations, _ = paraphraser.generate_batch([sample])\n",
    "generations[0]"
   ]
  }
 ],
 "metadata": {
  "kernelspec": {
   "display_name": "style-venv",
   "language": "python",
   "name": "python3"
  },
  "language_info": {
   "codemirror_mode": {
    "name": "ipython",
    "version": 3
   },
   "file_extension": ".py",
   "mimetype": "text/x-python",
   "name": "python",
   "nbconvert_exporter": "python",
   "pygments_lexer": "ipython3",
   "version": "3.8.19"
  },
  "orig_nbformat": 4
 },
 "nbformat": 4,
 "nbformat_minor": 2
}
